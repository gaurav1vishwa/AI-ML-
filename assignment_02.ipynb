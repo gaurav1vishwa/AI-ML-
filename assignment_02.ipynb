{
 "cells": [
  {
   "cell_type": "markdown",
   "id": "45f325a5-3563-4dfa-956d-ead291819fe6",
   "metadata": {},
   "source": [
    " ***basic python langauge***\n",
    " \n"
   ]
  },
  {
   "cell_type": "markdown",
   "id": "73dd561e-42aa-4ead-83d3-c3cf67faba34",
   "metadata": {},
   "source": [
    "python is case sensitive langauge, \n",
    "\n",
    "it is most cammon used programming langauges,\n",
    "\n",
    "it is also an object orianted langauge where we can use the concepts of real life, or class and methods as well..\n",
    "\n"
   ]
  },
  {
   "cell_type": "markdown",
   "id": "df6d8f2d-2021-4e62-bbfc-8ec2824ac1fe",
   "metadata": {},
   "source": [
    " to print anything in python we use the function called print() , \n",
    "\n",
    " inside the print fn() we can print any valude or any stirg. \n",
    " "
   ]
  },
  {
   "cell_type": "code",
   "execution_count": 1,
   "id": "c72ff7fb-57bf-40eb-8ef7-37d4f271d95a",
   "metadata": {},
   "outputs": [
    {
     "name": "stdout",
     "output_type": "stream",
     "text": [
      "Hellow World\n"
     ]
    }
   ],
   "source": [
    "print(\"Hellow World\");    "
   ]
  },
  {
   "cell_type": "code",
   "execution_count": 2,
   "id": "662ec99b-5a1e-4407-99d5-f65611a29f41",
   "metadata": {},
   "outputs": [
    {
     "name": "stdout",
     "output_type": "stream",
     "text": [
      "23\n"
     ]
    }
   ],
   "source": [
    "print(23);"
   ]
  },
  {
   "cell_type": "code",
   "execution_count": 3,
   "id": "44a3d6a9-08a8-4071-841a-31490694fa04",
   "metadata": {},
   "outputs": [
    {
     "name": "stdout",
     "output_type": "stream",
     "text": [
      "<class 'int'>\n"
     ]
    }
   ],
   "source": [
    "print(type(23));"
   ]
  },
  {
   "cell_type": "markdown",
   "id": "5f852c57-080d-4278-b7bb-e57db0b5dc95",
   "metadata": {},
   "source": [
    "in the above code type() fn. is  used to show that which type of valude passes inside the print fn.\n"
   ]
  },
  {
   "cell_type": "markdown",
   "id": "0cc27876-3be1-44ff-a181-d14d1837d866",
   "metadata": {},
   "source": [
    "For the taking the input from the user, we use input fn();"
   ]
  },
  {
   "cell_type": "code",
   "execution_count": null,
   "id": "d8c36057-6223-4abe-a78b-621814e5edff",
   "metadata": {},
   "outputs": [],
   "source": [
    "a=input(\"enter the name of owner\");\n",
    "print(a);"
   ]
  },
  {
   "cell_type": "markdown",
   "id": "38c12806-c82d-45f9-ae2f-6f98887117c7",
   "metadata": {},
   "source": [
    "\n",
    "datatype in python\n"
   ]
  },
  {
   "cell_type": "code",
   "execution_count": 5,
   "id": "4790b2c0-4b64-41b6-9ed4-d65dc0476252",
   "metadata": {},
   "outputs": [
    {
     "name": "stdout",
     "output_type": "stream",
     "text": [
      "34\n",
      "<class 'int'>\n"
     ]
    }
   ],
   "source": [
    "# integar data type:\n",
    "\n",
    "a=34;\n",
    "print(a);\n",
    "print(type(a));"
   ]
  },
  {
   "cell_type": "code",
   "execution_count": 10,
   "id": "fd361e30-90a3-4ea3-9d5f-13dd7bd6d365",
   "metadata": {},
   "outputs": [
    {
     "name": "stdout",
     "output_type": "stream",
     "text": [
      "34.3\n",
      "<class 'float'>\n"
     ]
    }
   ],
   "source": [
    "# flaot data type:\n",
    "\n",
    "a=34.3;\n",
    "print(a);\n",
    "print(type(a));"
   ]
  },
  {
   "cell_type": "code",
   "execution_count": 11,
   "id": "ca19b2c9-4130-4350-a81e-67fcd2277d2a",
   "metadata": {},
   "outputs": [
    {
     "name": "stdout",
     "output_type": "stream",
     "text": [
      "3448302033.32\n",
      "<class 'float'>\n"
     ]
    }
   ],
   "source": [
    "a=3448302033.32;\n",
    "print(a);\n",
    "print(type(a));"
   ]
  },
  {
   "cell_type": "code",
   "execution_count": 12,
   "id": "383801a7-0000-4ccd-961f-e516280fbf04",
   "metadata": {},
   "outputs": [
    {
     "name": "stdout",
     "output_type": "stream",
     "text": [
      "True\n",
      "<class 'bool'>\n"
     ]
    }
   ],
   "source": [
    "# boolean datatype:\n",
    "\n",
    "a=True;\n",
    "print(a);\n",
    "print(type(a));"
   ]
  },
  {
   "cell_type": "code",
   "execution_count": 14,
   "id": "d58a01aa-7033-468f-9a50-ef0e2d2367ba",
   "metadata": {},
   "outputs": [
    {
     "name": "stdout",
     "output_type": "stream",
     "text": [
      "Gaurav\n",
      "shin\n",
      "<class 'str'>\n",
      "<class 'str'>\n"
     ]
    }
   ],
   "source": [
    "#sting data type:\n",
    "\n",
    "a=\"Gaurav\";\n",
    "b='shin'\n",
    "print(a);\n",
    "print(b);\n",
    "print(type(a));\n",
    "print(type(b));"
   ]
  },
  {
   "cell_type": "markdown",
   "id": "8fdd40b3-f1b2-4bbe-ac50-acf20fb5d284",
   "metadata": {},
   "source": [
    "in the above we can define the string by '' or\"\" both are valid;"
   ]
  },
  {
   "cell_type": "markdown",
   "id": "da1c1181-1387-4a3c-9cee-038bd63df36e",
   "metadata": {},
   "source": [
    "string mehtods/ function();"
   ]
  },
  {
   "cell_type": "code",
   "execution_count": 16,
   "id": "86a48460-8640-4d32-abe5-088ead7d932a",
   "metadata": {},
   "outputs": [
    {
     "name": "stdout",
     "output_type": "stream",
     "text": [
      "1\n"
     ]
    }
   ],
   "source": [
    "string= \"Garuavkumar\";\n",
    "tostore=string.find('a');  # it return the index of string where a particular character are stored\n",
    "print(tostore);\n"
   ]
  },
  {
   "cell_type": "code",
   "execution_count": 20,
   "id": "3d6b1151-58c5-444e-986b-34137790306b",
   "metadata": {},
   "outputs": [
    {
     "name": "stdout",
     "output_type": "stream",
     "text": [
      "Gdrudvkumdr\n"
     ]
    }
   ],
   "source": [
    "string= \"Garuavkumar\";\n",
    "tostore=string.replace(\"a\",\"d\"); # always replace the privious posation.or from the starting indexing\n",
    "print(tostore);\n",
    "\n",
    "# replace(\"replace\", \"what you want\");\n"
   ]
  },
  {
   "cell_type": "code",
   "execution_count": 21,
   "id": "7e2f3a22-37b2-466b-9b22-623ead4a75f1",
   "metadata": {},
   "outputs": [],
   "source": [
    "string= \"Garuavkumar\";\n",
    "tostore=string.find('a');  "
   ]
  },
  {
   "cell_type": "code",
   "execution_count": 26,
   "id": "b8cf5eac-a232-4969-8e8e-699019a9d841",
   "metadata": {},
   "outputs": [
    {
     "name": "stdout",
     "output_type": "stream",
     "text": [
      "Garuavkumar garuav\n"
     ]
    }
   ],
   "source": [
    "string= \"Garuavkumar\";\n",
    "print( string , 'garuav'); \n"
   ]
  },
  {
   "cell_type": "markdown",
   "id": "2ef98a52-d315-4f97-895e-fdaa29362681",
   "metadata": {},
   "source": [
    "operator in python - \n",
    "arthematic operator: +,-,*,/,%"
   ]
  },
  {
   "cell_type": "code",
   "execution_count": 27,
   "id": "dc69dbfb-2ef7-4069-926d-ec34ac318183",
   "metadata": {},
   "outputs": [
    {
     "name": "stdout",
     "output_type": "stream",
     "text": [
      "55\n"
     ]
    }
   ],
   "source": [
    "a=23;\n",
    "b=32;\n",
    "print(a+b);"
   ]
  },
  {
   "cell_type": "code",
   "execution_count": null,
   "id": "2e6edc0f-83b4-45d9-a55b-2ebebd97fb55",
   "metadata": {},
   "outputs": [],
   "source": []
  },
  {
   "cell_type": "code",
   "execution_count": 27,
   "id": "3ac3a889-1e5b-4d55-bd98-235e2ea05c27",
   "metadata": {},
   "outputs": [
    {
     "name": "stdout",
     "output_type": "stream",
     "text": [
      "55\n"
     ]
    }
   ],
   "source": [
    "a=23;\n",
    "b=32;\n",
    "print(a+b);"
   ]
  },
  {
   "cell_type": "code",
   "execution_count": 28,
   "id": "04134864-7ae6-4969-8ab0-cbb04357f9e5",
   "metadata": {},
   "outputs": [
    {
     "name": "stdout",
     "output_type": "stream",
     "text": [
      "-9\n"
     ]
    }
   ],
   "source": [
    "a=23;\n",
    "b=32;\n",
    "print(a-b);"
   ]
  },
  {
   "cell_type": "code",
   "execution_count": 29,
   "id": "de0153be-0203-46d3-b246-5f196a761908",
   "metadata": {},
   "outputs": [
    {
     "name": "stdout",
     "output_type": "stream",
     "text": [
      "736\n"
     ]
    }
   ],
   "source": [
    "a=23;\n",
    "b=32;\n",
    "print(a*b);"
   ]
  },
  {
   "cell_type": "code",
   "execution_count": 30,
   "id": "6f09565f-63ea-4c55-9811-b0259b63face",
   "metadata": {},
   "outputs": [
    {
     "name": "stdout",
     "output_type": "stream",
     "text": [
      "0.71875\n"
     ]
    }
   ],
   "source": [
    "a=23;\n",
    "b=32;\n",
    "print(a/b);"
   ]
  },
  {
   "cell_type": "code",
   "execution_count": null,
   "id": "0c37e07d-e394-4f1d-9f3b-9b7870242140",
   "metadata": {},
   "outputs": [],
   "source": []
  },
  {
   "cell_type": "code",
   "execution_count": 31,
   "id": "acff5bb8-3f30-42e9-9b91-5a618f99e869",
   "metadata": {},
   "outputs": [
    {
     "name": "stdout",
     "output_type": "stream",
     "text": [
      "23\n"
     ]
    }
   ],
   "source": [
    "a=23;\n",
    "b=32;\n",
    "print(a%b);"
   ]
  },
  {
   "cell_type": "markdown",
   "id": "60be6bcd-3f9d-4fd9-bcb5-e441d804ec33",
   "metadata": {},
   "source": [
    " operator presidence... \n",
    " all operator will be exeicuted  under the BODAMASS Rule;"
   ]
  },
  {
   "cell_type": "code",
   "execution_count": null,
   "id": "69268f01-231e-4a1c-aeb6-1949f00fcf4a",
   "metadata": {},
   "outputs": [],
   "source": [
    "\n",
    "  # -> is called the comparesion operator where we can define any thing which we don't want to used it or run any code \n"
   ]
  },
  {
   "cell_type": "markdown",
   "id": "05e313af-05ca-4d95-b99b-eb7e8515a281",
   "metadata": {},
   "source": [
    "comparession operator \n",
    "\n",
    "==, <=, >=,>,<, !=    these operator always return the boolean values. "
   ]
  },
  {
   "cell_type": "code",
   "execution_count": 1,
   "id": "3a798da4-ba77-4617-880a-143c0aa02555",
   "metadata": {},
   "outputs": [
    {
     "name": "stdout",
     "output_type": "stream",
     "text": [
      "False\n"
     ]
    }
   ],
   "source": [
    "a=23;\n",
    "b=32;\n",
    "print(a==b);"
   ]
  },
  {
   "cell_type": "code",
   "execution_count": 3,
   "id": "aa21cf02-7ecd-4652-9468-c9d807716b14",
   "metadata": {},
   "outputs": [
    {
     "name": "stdout",
     "output_type": "stream",
     "text": [
      "True\n"
     ]
    }
   ],
   "source": [
    "a=23;\n",
    "b=32;\n",
    "print(a<=b);"
   ]
  },
  {
   "cell_type": "code",
   "execution_count": 4,
   "id": "1b0cf7b6-1ed9-4e61-8920-9b626806f4c2",
   "metadata": {},
   "outputs": [
    {
     "name": "stdout",
     "output_type": "stream",
     "text": [
      "False\n"
     ]
    }
   ],
   "source": [
    "a=23;\n",
    "b=32;\n",
    "print(a>=b);"
   ]
  },
  {
   "cell_type": "code",
   "execution_count": 5,
   "id": "cb33493d-d446-4e3c-8f11-bb959a54433e",
   "metadata": {},
   "outputs": [
    {
     "name": "stdout",
     "output_type": "stream",
     "text": [
      "False\n"
     ]
    }
   ],
   "source": [
    "a=23;\n",
    "b=32;\n",
    "print(a>b);"
   ]
  },
  {
   "cell_type": "code",
   "execution_count": 6,
   "id": "7ac16f38-fd04-4bf9-bbab-796af654171c",
   "metadata": {},
   "outputs": [
    {
     "name": "stdout",
     "output_type": "stream",
     "text": [
      "True\n"
     ]
    }
   ],
   "source": [
    "a=23;\n",
    "b=32;\n",
    "print(a<b);"
   ]
  },
  {
   "cell_type": "code",
   "execution_count": 8,
   "id": "c1a9b354-5036-4435-8372-3287ee21bdd6",
   "metadata": {},
   "outputs": [
    {
     "name": "stdout",
     "output_type": "stream",
     "text": [
      "True\n"
     ]
    }
   ],
   "source": [
    "a=23;\n",
    "b=32;\n",
    "print(a!=b);"
   ]
  },
  {
   "cell_type": "markdown",
   "id": "958b5c91",
   "metadata": {},
   "source": [
    "logical operator in python.  \n",
    "\n",
    "and operator \n",
    "or operator\n",
    "not operator *"
   ]
  },
  {
   "cell_type": "markdown",
   "id": "8a4b14e1",
   "metadata": {},
   "source": [
    "\n",
    "and \tReturns True if both the operands are true\t\n",
    "\n",
    "or \t    Returns True if either of the operands is true\t\n",
    "\n",
    "not \tReturns True if the operand is false\t"
   ]
  },
  {
   "cell_type": "code",
   "execution_count": 11,
   "id": "6c2df784",
   "metadata": {},
   "outputs": [
    {
     "name": "stdout",
     "output_type": "stream",
     "text": [
      "False\n"
     ]
    }
   ],
   "source": [
    "a=10;\n",
    "b=12;\n",
    "c=20;\n",
    "d=a>b and a<b;\n",
    "print(d);"
   ]
  },
  {
   "cell_type": "code",
   "execution_count": 12,
   "id": "cb42cbf4",
   "metadata": {},
   "outputs": [
    {
     "name": "stdout",
     "output_type": "stream",
     "text": [
      "True\n"
     ]
    }
   ],
   "source": [
    "a=10;\n",
    "b=12;\n",
    "c=20;\n",
    "d=a>b or a<b;\n",
    "print(d);"
   ]
  },
  {
   "cell_type": "code",
   "execution_count": 14,
   "id": "41db917f",
   "metadata": {},
   "outputs": [
    {
     "name": "stdout",
     "output_type": "stream",
     "text": [
      "False\n"
     ]
    }
   ],
   "source": [
    "a=10;\n",
    "b=12;\n",
    "c=20;\n",
    "d=a>b;\n",
    "print(d);"
   ]
  },
  {
   "cell_type": "markdown",
   "id": "e4b0da96",
   "metadata": {},
   "source": [
    "Assignment Operators in Python\n",
    "+=,-=, *=,/=,%=,a //= b(Floor Division Assignment Operator),a **= b(Exponentiation Assignment Operator)....."
   ]
  },
  {
   "cell_type": "code",
   "execution_count": 4,
   "id": "094b4262",
   "metadata": {},
   "outputs": [
    {
     "name": "stdout",
     "output_type": "stream",
     "text": [
      "8\n"
     ]
    }
   ],
   "source": [
    "a = 3\n",
    "b = 5\n",
    "\n",
    "# a = a + b\n",
    "a += b\n",
    "\n",
    "# Output\n",
    "print(a)"
   ]
  },
  {
   "cell_type": "code",
   "execution_count": 6,
   "id": "936cb3e8",
   "metadata": {},
   "outputs": [
    {
     "name": "stdout",
     "output_type": "stream",
     "text": [
      "6561\n"
     ]
    }
   ],
   "source": [
    "a = 3\n",
    "b = 8\n",
    "\n",
    "# a = a ** b\n",
    "a **= b\n",
    "\n",
    "# Output\n",
    "print(a)"
   ]
  },
  {
   "cell_type": "code",
   "execution_count": 7,
   "id": "6edaf078",
   "metadata": {},
   "outputs": [
    {
     "name": "stdout",
     "output_type": "stream",
     "text": [
      "0\n"
     ]
    }
   ],
   "source": [
    "a = 4\n",
    "b = 5\n",
    "\n",
    "# a = a // b\n",
    "a //= b\n",
    "\n",
    "# Output\n",
    "print(a)"
   ]
  },
  {
   "cell_type": "markdown",
   "id": "cac6e84e",
   "metadata": {},
   "source": [
    "conditional statement "
   ]
  },
  {
   "cell_type": "code",
   "execution_count": 2,
   "id": "c3dfbcca",
   "metadata": {},
   "outputs": [
    {
     "name": "stdout",
     "output_type": "stream",
     "text": [
      "you are eligiable\n"
     ]
    }
   ],
   "source": [
    "age=int(input(\"enter you are \"));\n",
    "\n",
    "if age >=18:\n",
    "     print(\"you are eligiable\")\n",
    "else:\n",
    "     print(\"you are not eligiable\");\n"
   ]
  },
  {
   "cell_type": "markdown",
   "id": "18d7d64f",
   "metadata": {},
   "source": [
    "we can use multiple if as we want ."
   ]
  },
  {
   "cell_type": "markdown",
   "id": "4475f4fe",
   "metadata": {},
   "source": [
    "Loops in python :\n",
    "\n",
    "while loop \n",
    "for loops "
   ]
  },
  {
   "cell_type": "code",
   "execution_count": null,
   "id": "b65804a6",
   "metadata": {},
   "outputs": [
    {
     "name": "stdout",
     "output_type": "stream",
     "text": [
      "1\n",
      "2\n",
      "3\n",
      "4\n",
      "5\n",
      "6\n",
      "7\n",
      "8\n",
      "9\n"
     ]
    }
   ],
   "source": [
    "i=int(input(\"enter the i number :\"))\n",
    "while i<10:\n",
    "    print(i);\n",
    "    \n",
    "    i=i+1;\n",
    "    "
   ]
  },
  {
   "cell_type": "code",
   "execution_count": 24,
   "id": "6efcc91d",
   "metadata": {},
   "outputs": [
    {
     "name": "stdout",
     "output_type": "stream",
     "text": [
      "2\n",
      "3\n",
      "4\n",
      "5\n",
      "6\n"
     ]
    }
   ],
   "source": [
    "\n",
    "for i in range(5) :\n",
    "    print(i+2);\n",
    "  \n",
    "    \n",
    "    "
   ]
  },
  {
   "cell_type": "markdown",
   "id": "6eff0795",
   "metadata": {},
   "source": [
    "break and continue  keyword in python\n",
    "\n",
    "whenever we want to terminate the loop than we used the break keyword. \n",
    "continue is used to escep the specific Process inside the loop "
   ]
  },
  {
   "cell_type": "markdown",
   "id": "1b9829b8",
   "metadata": {},
   "source": [
    " list data type :\n",
    " collection of datatpye (primitive data types);\n",
    " li=[d1,d2,'d3',d4....,dn];\n",
    "\n",
    "  lists are mutable, which means you can change their elements after they are created. "
   ]
  },
  {
   "cell_type": "code",
   "execution_count": 25,
   "id": "53badb14",
   "metadata": {},
   "outputs": [
    {
     "name": "stdout",
     "output_type": "stream",
     "text": [
      "[12, 42, 53, 64, 4]\n"
     ]
    }
   ],
   "source": [
    "li=[12,42,53,64,4]\n",
    "print(li)"
   ]
  },
  {
   "cell_type": "code",
   "execution_count": 26,
   "id": "b14c65eb",
   "metadata": {},
   "outputs": [
    {
     "name": "stdout",
     "output_type": "stream",
     "text": [
      "[12, 42, 53, 64, 4, 'garuv', 32.42, 'shyam']\n"
     ]
    }
   ],
   "source": [
    "li=[12,42,53,64,4,'garuv',32.42, \"shyam\"]\n",
    "print(li);"
   ]
  },
  {
   "cell_type": "code",
   "execution_count": 27,
   "id": "12497203",
   "metadata": {},
   "outputs": [
    {
     "name": "stdout",
     "output_type": "stream",
     "text": [
      "Help on class list in module builtins:\n",
      "\n",
      "class list(object)\n",
      " |  list(iterable=(), /)\n",
      " |  \n",
      " |  Built-in mutable sequence.\n",
      " |  \n",
      " |  If no argument is given, the constructor creates a new empty list.\n",
      " |  The argument must be an iterable if specified.\n",
      " |  \n",
      " |  Methods defined here:\n",
      " |  \n",
      " |  __add__(self, value, /)\n",
      " |      Return self+value.\n",
      " |  \n",
      " |  __contains__(self, key, /)\n",
      " |      Return key in self.\n",
      " |  \n",
      " |  __delitem__(self, key, /)\n",
      " |      Delete self[key].\n",
      " |  \n",
      " |  __eq__(self, value, /)\n",
      " |      Return self==value.\n",
      " |  \n",
      " |  __ge__(self, value, /)\n",
      " |      Return self>=value.\n",
      " |  \n",
      " |  __getattribute__(self, name, /)\n",
      " |      Return getattr(self, name).\n",
      " |  \n",
      " |  __getitem__(...)\n",
      " |      x.__getitem__(y) <==> x[y]\n",
      " |  \n",
      " |  __gt__(self, value, /)\n",
      " |      Return self>value.\n",
      " |  \n",
      " |  __iadd__(self, value, /)\n",
      " |      Implement self+=value.\n",
      " |  \n",
      " |  __imul__(self, value, /)\n",
      " |      Implement self*=value.\n",
      " |  \n",
      " |  __init__(self, /, *args, **kwargs)\n",
      " |      Initialize self.  See help(type(self)) for accurate signature.\n",
      " |  \n",
      " |  __iter__(self, /)\n",
      " |      Implement iter(self).\n",
      " |  \n",
      " |  __le__(self, value, /)\n",
      " |      Return self<=value.\n",
      " |  \n",
      " |  __len__(self, /)\n",
      " |      Return len(self).\n",
      " |  \n",
      " |  __lt__(self, value, /)\n",
      " |      Return self<value.\n",
      " |  \n",
      " |  __mul__(self, value, /)\n",
      " |      Return self*value.\n",
      " |  \n",
      " |  __ne__(self, value, /)\n",
      " |      Return self!=value.\n",
      " |  \n",
      " |  __repr__(self, /)\n",
      " |      Return repr(self).\n",
      " |  \n",
      " |  __reversed__(self, /)\n",
      " |      Return a reverse iterator over the list.\n",
      " |  \n",
      " |  __rmul__(self, value, /)\n",
      " |      Return value*self.\n",
      " |  \n",
      " |  __setitem__(self, key, value, /)\n",
      " |      Set self[key] to value.\n",
      " |  \n",
      " |  __sizeof__(self, /)\n",
      " |      Return the size of the list in memory, in bytes.\n",
      " |  \n",
      " |  append(self, object, /)\n",
      " |      Append object to the end of the list.\n",
      " |  \n",
      " |  clear(self, /)\n",
      " |      Remove all items from list.\n",
      " |  \n",
      " |  copy(self, /)\n",
      " |      Return a shallow copy of the list.\n",
      " |  \n",
      " |  count(self, value, /)\n",
      " |      Return number of occurrences of value.\n",
      " |  \n",
      " |  extend(self, iterable, /)\n",
      " |      Extend list by appending elements from the iterable.\n",
      " |  \n",
      " |  index(self, value, start=0, stop=9223372036854775807, /)\n",
      " |      Return first index of value.\n",
      " |      \n",
      " |      Raises ValueError if the value is not present.\n",
      " |  \n",
      " |  insert(self, index, object, /)\n",
      " |      Insert object before index.\n",
      " |  \n",
      " |  pop(self, index=-1, /)\n",
      " |      Remove and return item at index (default last).\n",
      " |      \n",
      " |      Raises IndexError if list is empty or index is out of range.\n",
      " |  \n",
      " |  remove(self, value, /)\n",
      " |      Remove first occurrence of value.\n",
      " |      \n",
      " |      Raises ValueError if the value is not present.\n",
      " |  \n",
      " |  reverse(self, /)\n",
      " |      Reverse *IN PLACE*.\n",
      " |  \n",
      " |  sort(self, /, *, key=None, reverse=False)\n",
      " |      Sort the list in ascending order and return None.\n",
      " |      \n",
      " |      The sort is in-place (i.e. the list itself is modified) and stable (i.e. the\n",
      " |      order of two equal elements is maintained).\n",
      " |      \n",
      " |      If a key function is given, apply it once to each list item and sort them,\n",
      " |      ascending or descending, according to their function values.\n",
      " |      \n",
      " |      The reverse flag can be set to sort in descending order.\n",
      " |  \n",
      " |  ----------------------------------------------------------------------\n",
      " |  Class methods defined here:\n",
      " |  \n",
      " |  __class_getitem__(...) from builtins.type\n",
      " |      See PEP 585\n",
      " |  \n",
      " |  ----------------------------------------------------------------------\n",
      " |  Static methods defined here:\n",
      " |  \n",
      " |  __new__(*args, **kwargs) from builtins.type\n",
      " |      Create and return a new object.  See help(type) for accurate signature.\n",
      " |  \n",
      " |  ----------------------------------------------------------------------\n",
      " |  Data and other attributes defined here:\n",
      " |  \n",
      " |  __hash__ = None\n",
      "\n"
     ]
    }
   ],
   "source": [
    "help(list)"
   ]
  },
  {
   "cell_type": "code",
   "execution_count": null,
   "id": "94abe414",
   "metadata": {},
   "outputs": [
    {
     "name": "stdout",
     "output_type": "stream",
     "text": [
      "[12, 42, 53, 64, 4, 'garuv', 32.42, 'shyam', 3, 2]\n"
     ]
    }
   ],
   "source": [
    "li=[12,42,53,64,4,'garuv',32.42, \"shyam\"]\n",
    "l2=[3,2]\n",
    "li=li.__add__(l2)   # add the another list in the existing one at end;\n",
    "print(li);"
   ]
  },
  {
   "cell_type": "code",
   "execution_count": null,
   "id": "1fa7c4d8",
   "metadata": {},
   "outputs": [
    {
     "name": "stdout",
     "output_type": "stream",
     "text": [
      "1\n"
     ]
    }
   ],
   "source": [
    "li=[12,42,53,64,4,'garuv',32.42, \"shyam\"]\n",
    "li=li.count(4); # used to count the no of occurace of any items inside the list ;\n",
    "print(li);"
   ]
  },
  {
   "cell_type": "markdown",
   "id": "29276cea",
   "metadata": {},
   "source": [
    "touple data type :\n",
    " this is immuatable, means we can not change the item or assignment of item not possible\n",
    " t1=(d1,d2,'d3',d4....,dn);"
   ]
  },
  {
   "cell_type": "code",
   "execution_count": 34,
   "id": "010f9a1b",
   "metadata": {},
   "outputs": [
    {
     "name": "stdout",
     "output_type": "stream",
     "text": [
      "(2, 34, 6, 32, 5)\n"
     ]
    }
   ],
   "source": [
    "t1=(2,34,6,32,5)\n",
    "print(t1)"
   ]
  },
  {
   "cell_type": "code",
   "execution_count": 35,
   "id": "c894fdd4",
   "metadata": {},
   "outputs": [
    {
     "name": "stdout",
     "output_type": "stream",
     "text": [
      "(2, 34, 6, 32, 5, 'garuv', 'shaurav', True)\n"
     ]
    }
   ],
   "source": [
    "t1=(2,34,6,32,5,'garuv','shaurav',True)\n",
    "print(t1)"
   ]
  },
  {
   "cell_type": "code",
   "execution_count": 36,
   "id": "575151e7",
   "metadata": {},
   "outputs": [
    {
     "name": "stdout",
     "output_type": "stream",
     "text": [
      "Help on class tuple in module builtins:\n",
      "\n",
      "class tuple(object)\n",
      " |  tuple(iterable=(), /)\n",
      " |  \n",
      " |  Built-in immutable sequence.\n",
      " |  \n",
      " |  If no argument is given, the constructor returns an empty tuple.\n",
      " |  If iterable is specified the tuple is initialized from iterable's items.\n",
      " |  \n",
      " |  If the argument is a tuple, the return value is the same object.\n",
      " |  \n",
      " |  Built-in subclasses:\n",
      " |      asyncgen_hooks\n",
      " |      UnraisableHookArgs\n",
      " |  \n",
      " |  Methods defined here:\n",
      " |  \n",
      " |  __add__(self, value, /)\n",
      " |      Return self+value.\n",
      " |  \n",
      " |  __contains__(self, key, /)\n",
      " |      Return key in self.\n",
      " |  \n",
      " |  __eq__(self, value, /)\n",
      " |      Return self==value.\n",
      " |  \n",
      " |  __ge__(self, value, /)\n",
      " |      Return self>=value.\n",
      " |  \n",
      " |  __getattribute__(self, name, /)\n",
      " |      Return getattr(self, name).\n",
      " |  \n",
      " |  __getitem__(self, key, /)\n",
      " |      Return self[key].\n",
      " |  \n",
      " |  __getnewargs__(self, /)\n",
      " |  \n",
      " |  __gt__(self, value, /)\n",
      " |      Return self>value.\n",
      " |  \n",
      " |  __hash__(self, /)\n",
      " |      Return hash(self).\n",
      " |  \n",
      " |  __iter__(self, /)\n",
      " |      Implement iter(self).\n",
      " |  \n",
      " |  __le__(self, value, /)\n",
      " |      Return self<=value.\n",
      " |  \n",
      " |  __len__(self, /)\n",
      " |      Return len(self).\n",
      " |  \n",
      " |  __lt__(self, value, /)\n",
      " |      Return self<value.\n",
      " |  \n",
      " |  __mul__(self, value, /)\n",
      " |      Return self*value.\n",
      " |  \n",
      " |  __ne__(self, value, /)\n",
      " |      Return self!=value.\n",
      " |  \n",
      " |  __repr__(self, /)\n",
      " |      Return repr(self).\n",
      " |  \n",
      " |  __rmul__(self, value, /)\n",
      " |      Return value*self.\n",
      " |  \n",
      " |  count(self, value, /)\n",
      " |      Return number of occurrences of value.\n",
      " |  \n",
      " |  index(self, value, start=0, stop=9223372036854775807, /)\n",
      " |      Return first index of value.\n",
      " |      \n",
      " |      Raises ValueError if the value is not present.\n",
      " |  \n",
      " |  ----------------------------------------------------------------------\n",
      " |  Class methods defined here:\n",
      " |  \n",
      " |  __class_getitem__(...) from builtins.type\n",
      " |      See PEP 585\n",
      " |  \n",
      " |  ----------------------------------------------------------------------\n",
      " |  Static methods defined here:\n",
      " |  \n",
      " |  __new__(*args, **kwargs) from builtins.type\n",
      " |      Create and return a new object.  See help(type) for accurate signature.\n",
      "\n"
     ]
    }
   ],
   "source": [
    "help(tuple)"
   ]
  },
  {
   "cell_type": "code",
   "execution_count": 38,
   "id": "1aec3d10",
   "metadata": {},
   "outputs": [
    {
     "name": "stdout",
     "output_type": "stream",
     "text": [
      "(2, 34, 6, 32, 5, 'garuv', 'shaurav', True, 4, 423)\n"
     ]
    }
   ],
   "source": [
    "t1=(2,34,6,32,5,'garuv','shaurav',True)\n",
    "t2=(4,423);\n",
    "t1=t1.__add__(t2);\n",
    "print(t1)"
   ]
  },
  {
   "cell_type": "code",
   "execution_count": null,
   "id": "0d1f3341",
   "metadata": {},
   "outputs": [
    {
     "name": "stdout",
     "output_type": "stream",
     "text": [
      "4\n"
     ]
    }
   ],
   "source": [
    "t1=(2,34,6,32,5,'garuv','shaurav',True)\n",
    "t2=(4,423);\n",
    "t1=t1.index(5) # return the  value in specific index;\n",
    "print(t1)"
   ]
  },
  {
   "cell_type": "markdown",
   "id": "a6d68e41",
   "metadata": {},
   "source": [
    "sets in python :\n",
    "s1={d1,d2,'d3',d4....,dn};\n",
    "\n",
    "properties using sets :\n",
    "No duplicate elements\n",
    "An unordered collection\n",
    "sets are mutable datatype."
   ]
  },
  {
   "cell_type": "code",
   "execution_count": 71,
   "id": "5419cfa0",
   "metadata": {},
   "outputs": [
    {
     "name": "stdout",
     "output_type": "stream",
     "text": [
      "{10, 50, 20}\n",
      "<class 'set'>\n"
     ]
    }
   ],
   "source": [
    "s1= {10, 50, 20}\n",
    "print(s1)\n",
    "print(type(s1))\n"
   ]
  },
  {
   "cell_type": "code",
   "execution_count": 72,
   "id": "9cdbbbed",
   "metadata": {},
   "outputs": [
    {
     "name": "stdout",
     "output_type": "stream",
     "text": [
      "Help on class set in module builtins:\n",
      "\n",
      "class set(object)\n",
      " |  set() -> new empty set object\n",
      " |  set(iterable) -> new set object\n",
      " |  \n",
      " |  Build an unordered collection of unique elements.\n",
      " |  \n",
      " |  Methods defined here:\n",
      " |  \n",
      " |  __and__(self, value, /)\n",
      " |      Return self&value.\n",
      " |  \n",
      " |  __contains__(...)\n",
      " |      x.__contains__(y) <==> y in x.\n",
      " |  \n",
      " |  __eq__(self, value, /)\n",
      " |      Return self==value.\n",
      " |  \n",
      " |  __ge__(self, value, /)\n",
      " |      Return self>=value.\n",
      " |  \n",
      " |  __getattribute__(self, name, /)\n",
      " |      Return getattr(self, name).\n",
      " |  \n",
      " |  __gt__(self, value, /)\n",
      " |      Return self>value.\n",
      " |  \n",
      " |  __iand__(self, value, /)\n",
      " |      Return self&=value.\n",
      " |  \n",
      " |  __init__(self, /, *args, **kwargs)\n",
      " |      Initialize self.  See help(type(self)) for accurate signature.\n",
      " |  \n",
      " |  __ior__(self, value, /)\n",
      " |      Return self|=value.\n",
      " |  \n",
      " |  __isub__(self, value, /)\n",
      " |      Return self-=value.\n",
      " |  \n",
      " |  __iter__(self, /)\n",
      " |      Implement iter(self).\n",
      " |  \n",
      " |  __ixor__(self, value, /)\n",
      " |      Return self^=value.\n",
      " |  \n",
      " |  __le__(self, value, /)\n",
      " |      Return self<=value.\n",
      " |  \n",
      " |  __len__(self, /)\n",
      " |      Return len(self).\n",
      " |  \n",
      " |  __lt__(self, value, /)\n",
      " |      Return self<value.\n",
      " |  \n",
      " |  __ne__(self, value, /)\n",
      " |      Return self!=value.\n",
      " |  \n",
      " |  __or__(self, value, /)\n",
      " |      Return self|value.\n",
      " |  \n",
      " |  __rand__(self, value, /)\n",
      " |      Return value&self.\n",
      " |  \n",
      " |  __reduce__(...)\n",
      " |      Return state information for pickling.\n",
      " |  \n",
      " |  __repr__(self, /)\n",
      " |      Return repr(self).\n",
      " |  \n",
      " |  __ror__(self, value, /)\n",
      " |      Return value|self.\n",
      " |  \n",
      " |  __rsub__(self, value, /)\n",
      " |      Return value-self.\n",
      " |  \n",
      " |  __rxor__(self, value, /)\n",
      " |      Return value^self.\n",
      " |  \n",
      " |  __sizeof__(...)\n",
      " |      S.__sizeof__() -> size of S in memory, in bytes\n",
      " |  \n",
      " |  __sub__(self, value, /)\n",
      " |      Return self-value.\n",
      " |  \n",
      " |  __xor__(self, value, /)\n",
      " |      Return self^value.\n",
      " |  \n",
      " |  add(...)\n",
      " |      Add an element to a set.\n",
      " |      \n",
      " |      This has no effect if the element is already present.\n",
      " |  \n",
      " |  clear(...)\n",
      " |      Remove all elements from this set.\n",
      " |  \n",
      " |  copy(...)\n",
      " |      Return a shallow copy of a set.\n",
      " |  \n",
      " |  difference(...)\n",
      " |      Return the difference of two or more sets as a new set.\n",
      " |      \n",
      " |      (i.e. all elements that are in this set but not the others.)\n",
      " |  \n",
      " |  difference_update(...)\n",
      " |      Remove all elements of another set from this set.\n",
      " |  \n",
      " |  discard(...)\n",
      " |      Remove an element from a set if it is a member.\n",
      " |      \n",
      " |      Unlike set.remove(), the discard() method does not raise\n",
      " |      an exception when an element is missing from the set.\n",
      " |  \n",
      " |  intersection(...)\n",
      " |      Return the intersection of two sets as a new set.\n",
      " |      \n",
      " |      (i.e. all elements that are in both sets.)\n",
      " |  \n",
      " |  intersection_update(...)\n",
      " |      Update a set with the intersection of itself and another.\n",
      " |  \n",
      " |  isdisjoint(...)\n",
      " |      Return True if two sets have a null intersection.\n",
      " |  \n",
      " |  issubset(...)\n",
      " |      Report whether another set contains this set.\n",
      " |  \n",
      " |  issuperset(...)\n",
      " |      Report whether this set contains another set.\n",
      " |  \n",
      " |  pop(...)\n",
      " |      Remove and return an arbitrary set element.\n",
      " |      Raises KeyError if the set is empty.\n",
      " |  \n",
      " |  remove(...)\n",
      " |      Remove an element from a set; it must be a member.\n",
      " |      \n",
      " |      If the element is not a member, raise a KeyError.\n",
      " |  \n",
      " |  symmetric_difference(...)\n",
      " |      Return the symmetric difference of two sets as a new set.\n",
      " |      \n",
      " |      (i.e. all elements that are in exactly one of the sets.)\n",
      " |  \n",
      " |  symmetric_difference_update(...)\n",
      " |      Update a set with the symmetric difference of itself and another.\n",
      " |  \n",
      " |  union(...)\n",
      " |      Return the union of sets as a new set.\n",
      " |      \n",
      " |      (i.e. all elements that are in either set.)\n",
      " |  \n",
      " |  update(...)\n",
      " |      Update a set with the union of itself and others.\n",
      " |  \n",
      " |  ----------------------------------------------------------------------\n",
      " |  Class methods defined here:\n",
      " |  \n",
      " |  __class_getitem__(...) from builtins.type\n",
      " |      See PEP 585\n",
      " |  \n",
      " |  ----------------------------------------------------------------------\n",
      " |  Static methods defined here:\n",
      " |  \n",
      " |  __new__(*args, **kwargs) from builtins.type\n",
      " |      Create and return a new object.  See help(type) for accurate signature.\n",
      " |  \n",
      " |  ----------------------------------------------------------------------\n",
      " |  Data and other attributes defined here:\n",
      " |  \n",
      " |  __hash__ = None\n",
      "\n"
     ]
    }
   ],
   "source": [
    "help(set)"
   ]
  },
  {
   "cell_type": "code",
   "execution_count": 74,
   "id": "a181f369",
   "metadata": {},
   "outputs": [
    {
     "name": "stdout",
     "output_type": "stream",
     "text": [
      "{50, 20, 21, 10, 'name'}\n"
     ]
    }
   ],
   "source": [
    "s1= {10, 50, 20,21,10,20,'name'}\n",
    "print(s1)"
   ]
  },
  {
   "cell_type": "code",
   "execution_count": null,
   "id": "8a8f9380",
   "metadata": {},
   "outputs": [
    {
     "name": "stdout",
     "output_type": "stream",
     "text": [
      "{50, 20, 42, 10, 30}\n"
     ]
    }
   ],
   "source": [
    "s1= {10, 50, 20}\n",
    "s2={ 42,10,30}\n",
    "s1.update(s2);  # used to add another set with unique entity.\n",
    "print(s1)"
   ]
  },
  {
   "cell_type": "code",
   "execution_count": null,
   "id": "5bb26aed",
   "metadata": {},
   "outputs": [
    {
     "name": "stdout",
     "output_type": "stream",
     "text": [
      "{10, 50, 20, 'rahul'}\n"
     ]
    }
   ],
   "source": [
    "s1= {10, 50, 20}\n",
    "s1.add('rahul') # to add any element in the set\n",
    "print(s1)"
   ]
  },
  {
   "cell_type": "code",
   "execution_count": null,
   "id": "08446b00",
   "metadata": {},
   "outputs": [
    {
     "name": "stdout",
     "output_type": "stream",
     "text": [
      "set()\n"
     ]
    }
   ],
   "source": [
    "s1= {10, 50, 20}\n",
    "s1.clear() # remove all element from the set \n",
    "print(s1)"
   ]
  },
  {
   "cell_type": "code",
   "execution_count": null,
   "id": "b6ffee3c",
   "metadata": {},
   "outputs": [
    {
     "name": "stdout",
     "output_type": "stream",
     "text": [
      "200\n"
     ]
    }
   ],
   "source": [
    "s1= {10, 50, 20}\n",
    "s1=s1.__sizeof__() # it show the size of obj.in memeory \n",
    "print(s1)"
   ]
  },
  {
   "cell_type": "code",
   "execution_count": null,
   "id": "614c9858",
   "metadata": {},
   "outputs": [
    {
     "name": "stdout",
     "output_type": "stream",
     "text": [
      "10\n",
      "50\n",
      "20\n"
     ]
    }
   ],
   "source": [
    "# print every element in the set\n",
    "s1= {10, 50, 20}\n",
    "\n",
    "for i in s1:\n",
    "    print(i);"
   ]
  },
  {
   "cell_type": "markdown",
   "id": "87942b99",
   "metadata": {},
   "source": [
    "Dictionary :\n",
    "Dictionaries are used to store : key value pairs.\n",
    "D1={\n",
    "    \"k1\" :\"p1\", \n",
    "     \"k2\" :\"p2\", \n",
    "     \"k3\" :\"p3\", \n",
    "     \"kn\" :\"pn\"\n",
    "}\n",
    "\n",
    "Dictionary items are ordered, changeable, and do not allow duplicates."
   ]
  },
  {
   "cell_type": "code",
   "execution_count": 87,
   "id": "c0370436",
   "metadata": {},
   "outputs": [
    {
     "name": "stdout",
     "output_type": "stream",
     "text": [
      "{'name': 'Gaurav', 'age': 21, 'state': 'madhya pradesh'}\n"
     ]
    }
   ],
   "source": [
    "d1={\n",
    "    \"name\":\"Gaurav\",\n",
    "    \"age\": 21,\n",
    "    \"state\": \"madhya pradesh\"\n",
    "}\n",
    "print(d1)"
   ]
  },
  {
   "cell_type": "code",
   "execution_count": null,
   "id": "4b3e76bb",
   "metadata": {},
   "outputs": [
    {
     "name": "stdout",
     "output_type": "stream",
     "text": [
      "name\n",
      "age\n",
      "state\n"
     ]
    }
   ],
   "source": [
    "d1={\n",
    "    \"name\":\"Gaurav\",\n",
    "    \"age\": 21,\n",
    "    \"state\": \"madhya pradesh\"\n",
    "}\n",
    "for i in d1 :\n",
    "    print(i)\n",
    "    "
   ]
  },
  {
   "cell_type": "code",
   "execution_count": 92,
   "id": "f10cba74",
   "metadata": {},
   "outputs": [
    {
     "name": "stdout",
     "output_type": "stream",
     "text": [
      "madhya pradesh\n"
     ]
    }
   ],
   "source": [
    "d1={\n",
    "    \"name\":\"Gaurav\",\n",
    "    \"age\": 21,\n",
    "    \"state\": \"madhya pradesh\"\n",
    "}\n",
    "print(d1['state'])"
   ]
  },
  {
   "cell_type": "code",
   "execution_count": 93,
   "id": "586aaf70",
   "metadata": {},
   "outputs": [
    {
     "name": "stdout",
     "output_type": "stream",
     "text": [
      "Gaurav\n",
      "21\n",
      "madhya pradesh\n"
     ]
    }
   ],
   "source": [
    "d1={\n",
    "    \"name\":\"Gaurav\",\n",
    "    \"age\": 21,\n",
    "    \"state\": \"madhya pradesh\"\n",
    "}\n",
    "for i in d1 :\n",
    "    print(d1[i])"
   ]
  },
  {
   "cell_type": "code",
   "execution_count": null,
   "id": "9c696f2a",
   "metadata": {},
   "outputs": [
    {
     "name": "stdout",
     "output_type": "stream",
     "text": [
      "{'name': 'Gaurav', 'age': 21, 'state': 'madhya pradesh'}\n"
     ]
    }
   ],
   "source": [
    "d1={\n",
    "    \"name\":\"Gaurav\",\n",
    "    \"age\": 21,\n",
    "    \"state\": \"madhya pradesh\",\n",
    "    \"age\": 21   # duplicates item are not allowed\n",
    "}\n",
    "print(d1);"
   ]
  },
  {
   "cell_type": "code",
   "execution_count": null,
   "id": "6f75a99d",
   "metadata": {},
   "outputs": [
    {
     "name": "stdout",
     "output_type": "stream",
     "text": [
      "3\n"
     ]
    }
   ],
   "source": [
    "d1={\n",
    "    \"name\":\"Gaurav\",\n",
    "    \"age\": 21,\n",
    "    \"state\": \"madhya pradesh\",\n",
    "    \"age\": 21   # duplicates item are not allowed\n",
    "}\n",
    "print(d1.__len__()); # return the lenght of disctinoary.\n"
   ]
  },
  {
   "cell_type": "markdown",
   "id": "13f57fec",
   "metadata": {},
   "source": [
    "we can also use the dict() method to make the dictionary\n"
   ]
  },
  {
   "cell_type": "code",
   "execution_count": 96,
   "id": "30d445d8",
   "metadata": {},
   "outputs": [
    {
     "name": "stdout",
     "output_type": "stream",
     "text": [
      "{'name': 'gaurv', 'age': 21, 'state': 'madhya pradesh'}\n"
     ]
    }
   ],
   "source": [
    "d1=dict(name =\"gaurv\",age =21, state=\"madhya pradesh\")\n",
    "print(d1)"
   ]
  }
 ],
 "metadata": {
  "kernelspec": {
   "display_name": "Python 3",
   "language": "python",
   "name": "python3"
  },
  "language_info": {
   "codemirror_mode": {
    "name": "ipython",
    "version": 3
   },
   "file_extension": ".py",
   "mimetype": "text/x-python",
   "name": "python",
   "nbconvert_exporter": "python",
   "pygments_lexer": "ipython3",
   "version": "3.11.3"
  }
 },
 "nbformat": 4,
 "nbformat_minor": 5
}
